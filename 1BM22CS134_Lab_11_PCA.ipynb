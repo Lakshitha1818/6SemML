{
  "nbformat": 4,
  "nbformat_minor": 0,
  "metadata": {
    "colab": {
      "provenance": []
    },
    "kernelspec": {
      "name": "python3",
      "display_name": "Python 3"
    },
    "language_info": {
      "name": "python"
    }
  },
  "cells": [
    {
      "cell_type": "code",
      "execution_count": 2,
      "metadata": {
        "id": "cnw0HroRENc0",
        "colab": {
          "base_uri": "https://localhost:8080/"
        },
        "outputId": "0f7c8e0a-3a9e-4bab-e1c0-d391a23ca230"
      },
      "outputs": [
        {
          "output_type": "stream",
          "name": "stdout",
          "text": [
            "Baseline Accuracies (Without PCA):\n",
            "Logistic Regression: 0.8533\n",
            "SVM: 0.8804\n",
            "Random Forest: 0.8967\n",
            "\n",
            "Accuracies After PCA:\n",
            "Logistic Regression: 0.8533\n",
            "SVM: 0.8804\n",
            "Random Forest: 0.8533\n"
          ]
        }
      ],
      "source": [
        "import pandas as pd\n",
        "from sklearn.preprocessing import LabelEncoder, StandardScaler\n",
        "from sklearn.model_selection import train_test_split\n",
        "from sklearn.linear_model import LogisticRegression\n",
        "from sklearn.svm import SVC\n",
        "from sklearn.ensemble import RandomForestClassifier\n",
        "from sklearn.decomposition import PCA\n",
        "from sklearn.metrics import accuracy_score\n",
        "\n",
        "# Load dataset\n",
        "df = pd.read_csv(\"heart.csv\")\n",
        "\n",
        "# Label Encoding for binary features\n",
        "le = LabelEncoder()\n",
        "df['Sex'] = le.fit_transform(df['Sex'])\n",
        "df['ExerciseAngina'] = le.fit_transform(df['ExerciseAngina'])\n",
        "\n",
        "# One-hot encoding for multiclass features\n",
        "df = pd.get_dummies(df, columns=['ChestPainType', 'RestingECG', 'ST_Slope'])\n",
        "\n",
        "# Features and target\n",
        "X = df.drop(\"HeartDisease\", axis=1)\n",
        "y = df[\"HeartDisease\"]\n",
        "\n",
        "# Scaling\n",
        "scaler = StandardScaler()\n",
        "X_scaled = scaler.fit_transform(X)\n",
        "\n",
        "# Train-test split\n",
        "X_train, X_test, y_train, y_test = train_test_split(X_scaled, y, test_size=0.2, random_state=42)\n",
        "\n",
        "# Model training\n",
        "models = {\n",
        "    \"Logistic Regression\": LogisticRegression(max_iter=1000),\n",
        "    \"SVM\": SVC(),\n",
        "    \"Random Forest\": RandomForestClassifier()\n",
        "}\n",
        "\n",
        "print(\"Baseline Accuracies (Without PCA):\")\n",
        "for name, model in models.items():\n",
        "    model.fit(X_train, y_train)\n",
        "    preds = model.predict(X_test)\n",
        "    acc = accuracy_score(y_test, preds)\n",
        "    print(f\"{name}: {acc:.4f}\")\n",
        "\n",
        "# Apply PCA\n",
        "pca = PCA(n_components=0.95)  # retain 95% variance\n",
        "X_pca = pca.fit_transform(X_scaled)\n",
        "\n",
        "# Split PCA-transformed data\n",
        "X_train_pca, X_test_pca, y_train, y_test = train_test_split(X_pca, y, test_size=0.2, random_state=42)\n",
        "\n",
        "print(\"\\nAccuracies After PCA:\")\n",
        "for name, model in models.items():\n",
        "    model.fit(X_train_pca, y_train)\n",
        "    preds = model.predict(X_test_pca)\n",
        "    acc = accuracy_score(y_test, preds)\n",
        "    print(f\"{name}: {acc:.4f}\")\n"
      ]
    }
  ]
}